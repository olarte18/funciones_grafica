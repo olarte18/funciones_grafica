{
  "nbformat": 4,
  "nbformat_minor": 0,
  "metadata": {
    "colab": {
      "provenance": [],
      "authorship_tag": "ABX9TyMK3A5ThzcfK6mjC3ZC9un/",
      "include_colab_link": true
    },
    "kernelspec": {
      "name": "python3",
      "display_name": "Python 3"
    },
    "language_info": {
      "name": "python"
    }
  },
  "cells": [
    {
      "cell_type": "markdown",
      "metadata": {
        "id": "view-in-github",
        "colab_type": "text"
      },
      "source": [
        "<a href=\"https://colab.research.google.com/github/olarte18/funciones_grafica/blob/main/funciones.ipynb\" target=\"_parent\"><img src=\"https://colab.research.google.com/assets/colab-badge.svg\" alt=\"Open In Colab\"/></a>"
      ]
    },
    {
      "cell_type": "code",
      "execution_count": 7,
      "metadata": {
        "id": "KJl2Hc6XKrSc"
      },
      "outputs": [],
      "source": [
        "import numpy as np\n",
        "import matplotlib.pyplot as plt"
      ]
    },
    {
      "cell_type": "code",
      "source": [
        "def funlineal():\n",
        "  N=100\n",
        "  def funcion_lineal(m,b,x):\n",
        "    return m*x+b\n",
        "  m=int(input(\"Digite el valor de la pendiente: \"))\n",
        "  b=int(input(\"Digite el valor de el punto de corte en y: \"))\n",
        "\n",
        "  x= np.linspace(-10,10,num=N)\n",
        "  y= funcion_lineal(m,b,x)\n",
        "\n",
        "  plt.plot(x,y ,color=\"r\")\n",
        "  plt.xlabel('x')\n",
        "  plt.ylabel('y')\n",
        "  plt.title('funcion lineal: y=mx+b')\n",
        "  plt.grid()\n",
        "  plt.axhline(y=0, color= \"b\")\n",
        "  plt.axvline(x=0, color=\"b\")\n",
        "  plt.show()  \n",
        "def funcuadra():\n",
        "  N=200\n",
        "  def funcioncuadratica(a,b,x,c):\n",
        "    return a*(x**2)+(b*x)+c\n",
        "\n",
        "  a=int(input(\"Digite el valor de a: \"))\n",
        "  b=int(input(\"Digite el valor de b: \"))\n",
        "  c=int(input(\"Digite el valor de c: \"))\n",
        "\n",
        "\n",
        "  x= np.linspace(-10,10,num=N)\n",
        "  y= funcioncuadratica(a,b,x,c)\n",
        "\n",
        "  plt.plot(x,y ,color=\"r\")\n",
        "  plt.xlabel('x')\n",
        "  plt.ylabel('y')\n",
        "  plt.title('cuadratica: y=ax²+bx+c')\n",
        "  plt.grid()\n",
        "  plt.axhline(y=0, color= \"b\")\n",
        "  plt.axvline(x=0, color=\"b\")\n",
        "  plt.show()\n",
        "def cubica():\n",
        "  N=100\n",
        "  def cubi(a,b,c,d,x):\n",
        "    return a*(x**3)+b*(x**2)+c*x+d\n",
        "\n",
        "\n",
        "  a=int(input(\"Digite el valor de a: \"))\n",
        "  b=int(input(\"Digite el valor de b: \"))\n",
        "  c=int(input(\"Digite el valor de c: \"))\n",
        "  d=int(input(\"Digite el valor de d: \"))\n",
        "\n",
        "  x= np.linspace(-10,10,num=N)\n",
        "  y= cubi(a,b,c,d,x)\n",
        "\n",
        "  plt.plot(x,y ,color=\"r\")\n",
        "  plt.xlabel('x')\n",
        "  plt.ylabel('y')\n",
        "  plt.title('cuadratica: y=ax²+bx+c')\n",
        "  plt.grid()\n",
        "  plt.axhline(y=0, color= \"b\")\n",
        "  plt.axvline(x=0, color=\"b\")\n",
        "  plt.show()\n",
        "\n",
        "\n",
        "\n",
        "print(\"----------------------------\")\n",
        "print(\"--Graficadora de funciones--\")\n",
        "print(\"----------------------------\")\n",
        "\n",
        "print(\"1.Funcion Lineal\")\n",
        "print(\"2.Funcion cuadratica\")\n",
        "print(\"3.Funcion cubica\")\n",
        "print(\"4.Funcion exponencial\")\n",
        "print(\"5.Funcion logaritmica\")\n",
        "print(\"6.Funcion funcion trigonometrica\")\n",
        "print(\"7.Funcion Radical\")\n",
        "print(\"8.Funcion Valor absoluto\")\n",
        "\n",
        "n=int(input(\"\\nDigite la opcion que desea: \"))\n",
        "if n==1: \n",
        "  c=funlineal()\n",
        "elif n==2:\n",
        "  d=funcuadra()\n",
        "elif n==3:\n",
        "  e=cubica()\n",
        "\n",
        "\n",
        "\n",
        "\n"
      ],
      "metadata": {
        "colab": {
          "base_uri": "https://localhost:8080/",
          "height": 590
        },
        "id": "jxKRDaIDL21o",
        "outputId": "f244a52e-5fce-4fba-8681-d6849a8000c5"
      },
      "execution_count": 20,
      "outputs": [
        {
          "name": "stdout",
          "output_type": "stream",
          "text": [
            "----------------------------\n",
            "--Graficadora de funciones--\n",
            "----------------------------\n",
            "1.Funcion Lineal\n",
            "2.Funcion cuadratica\n",
            "3.Funcion cubica\n",
            "4.Funcion exponencial\n",
            "5.Funcion logaritmica\n",
            "6.Funcion funcion trigonometrica\n",
            "7.Funcion Radical\n",
            "8.Funcion Valor absoluto\n",
            "\n",
            "Digite la opcion que desea: 3\n",
            "Digite el valor de a: 2\n",
            "Digite el valor de b: 3\n",
            "Digite el valor de c: 4\n",
            "Digite el valor de d: 5\n"
          ]
        },
        {
          "output_type": "display_data",
          "data": {
            "text/plain": [
              "<Figure size 432x288 with 1 Axes>"
            ],
            "image/png": "[encoded data removed]"
          },
          "metadata": {
            "needs_background": "light"
          }
        }
      ]
    }
  ]
}